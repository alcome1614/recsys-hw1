{
 "cells": [
  {
   "cell_type": "code",
   "execution_count": 2,
   "metadata": {},
   "outputs": [
    {
     "data": {
      "text/html": [
       "<style>.container { width:100% !important; }</style>"
      ],
      "text/plain": [
       "<IPython.core.display.HTML object>"
      ]
     },
     "metadata": {},
     "output_type": "display_data"
    }
   ],
   "source": [
    "import numpy as np\n",
    "import pandas as pd\n",
    "import matplotlib.pyplot as plt\n",
    "import collections\n",
    "%matplotlib inline\n",
    "from tabulate import tabulate\n",
    "\n",
    "from IPython.core.display import display, HTML\n",
    "display(HTML(\"<style>.container { width:100% !important; }</style>\"))\n",
    "\n",
    "pdtabulate=lambda df:tabulate(df,headers='keys',tablefmt='psql')"
   ]
  },
  {
   "cell_type": "code",
   "execution_count": 3,
   "metadata": {},
   "outputs": [
    {
     "name": "stderr",
     "output_type": "stream",
     "text": [
      "C:\\Users\\Alfons\\Anaconda3\\lib\\site-packages\\ipykernel_launcher.py:7: ParserWarning: Falling back to the 'python' engine because the 'c' engine does not support regex separators (separators > 1 char and different from '\\s+' are interpreted as regex); you can avoid this warning by specifying engine='python'.\n",
      "  import sys\n",
      "C:\\Users\\Alfons\\Anaconda3\\lib\\site-packages\\ipykernel_launcher.py:9: ParserWarning: Falling back to the 'python' engine because the 'c' engine does not support regex separators (separators > 1 char and different from '\\s+' are interpreted as regex); you can avoid this warning by specifying engine='python'.\n",
      "  if __name__ == '__main__':\n"
     ]
    },
    {
     "name": "stdout",
     "output_type": "stream",
     "text": [
      "rating values: [1 2 3 4 5]\n",
      "Initial number of films: 3706\n",
      "Initial number of users: 6040\n"
     ]
    }
   ],
   "source": [
    "def load_data(dataset='100k'):\n",
    "    if dataset=='100k' or dataset==0:\n",
    "        df = pd.read_csv('data/ml-100k/u.item',encoding='latin-1',sep='|',header=None,names=['movie_id','movie_title','release_date','video_release_date','IMDb URL','unknown','action','adventure','animation','children\\'s','comedy','crime','documentary','drama','fantasy','film-noir','horror','musical','mystery','romance','sci-fi','thriller','war','western'])\n",
    "        id_to_title = dict(zip(df.movie_id,df.movie_title))\n",
    "        df = pd.read_csv('data/u.data',sep='\\t',header=None,names=['user_id','movie_id','rating','timestamp'])\n",
    "    if dataset=='1M' or dataset==1:\n",
    "        df = pd.read_csv('data/ml-1m/movies.dat',encoding='latin-1',sep='::',header=None, names=['movie_id','movie_title','trash'])\n",
    "        id_to_title = dict(zip(df.movie_id,df.movie_title))\n",
    "        df = pd.read_csv('data/ml-1m/ratings.dat', header=None, sep='::', names=['user_id','movie_id','rating','timestamp'])\n",
    "            \n",
    "    df = df.drop('timestamp', axis=1)\n",
    "    print('rating values:',np.unique(df.rating))\n",
    "    print('Initial number of films:', len(np.unique(df.movie_id)))\n",
    "    print('Initial number of users:',len(np.unique(df.user_id)))\n",
    "    movie_hist = df.groupby('movie_id').count().rating\n",
    "    user_hist = df.groupby('user_id').count().rating\n",
    "    df = df[ df.movie_id.isin( movie_hist[movie_hist >20].index ) ]\n",
    "    df = df[ df.user_id.isin( user_hist[user_hist >20].index ) ]\n",
    "    return df, id_to_title\n",
    "\n",
    "df,_ = load_data(1)"
   ]
  },
  {
   "cell_type": "code",
   "execution_count": null,
   "metadata": {},
   "outputs": [],
   "source": []
  },
  {
   "cell_type": "code",
   "execution_count": 47,
   "metadata": {},
   "outputs": [],
   "source": [
    "#train-test split, so that test contains one rating from each user\n",
    "def split_df(df, rating_threshold=3):\n",
    "    df = df[df.rating>rating_threshold]\n",
    "    user_list = np.unique(df.user_id)\n",
    "    train =  pd.DataFrame({'user_id': [], 'movie_id':[], 'rating':[]}).astype('int32')\n",
    "    test = pd.DataFrame({'user_id': [], 'movie_id':[], 'rating':[]}).astype('int32')\n",
    "    train_list = []\n",
    "    test_list = []\n",
    "    for user_id in user_list:\n",
    "        df_reduced = df[df.user_id==user_id]\n",
    "        test_i = df_reduced.sample()\n",
    "        train_i = df_reduced.drop(test_i.index)\n",
    "        train_list.append(train_i)\n",
    "        test_list.append(test_i)\n",
    "    train = pd.concat(train_list)\n",
    "    test = pd.concat(test_list) \n",
    "    return train, test\n",
    "train, test = split_df(df, 0)"
   ]
  },
  {
   "cell_type": "code",
   "execution_count": 4,
   "metadata": {},
   "outputs": [
    {
     "data": {
      "text/plain": [
       "array([[ 1.,  2., nan,  3.],\n",
       "       [ 4., nan,  3.,  1.],\n",
       "       [nan,  5.,  4.,  3.],\n",
       "       [ 5.,  2.,  3., nan],\n",
       "       [ 4.,  2.,  2., nan]])"
      ]
     },
     "execution_count": 4,
     "metadata": {},
     "output_type": "execute_result"
    }
   ],
   "source": [
    "data = pd.DataFrame({'movie_id':[1,1,1,2,2,2,3,3,3,4,4,4,5,5,5], 'user_id':[1,2,4,1,3,4,2,3,4,1,2,3,1,2,3], 'rating':[1,2,3,4,3,1,5,4,3,5,2,3,4,2,2]})\n",
    "data_ratings = data.pivot_table(values='rating',columns='user_id',index='movie_id')\n",
    "\n",
    "data_ratings.values"
   ]
  },
  {
   "cell_type": "code",
   "execution_count": 4,
   "metadata": {
    "scrolled": true
   },
   "outputs": [],
   "source": [
    "from time import time\n",
    "from scipy.sparse import csr_matrix, csc_matrix\n",
    "from sklearn.linear_model import SGDRegressor, ElasticNet\n",
    "\n",
    "\n",
    "\n",
    "\n",
    "class MatrixSparseColumn():\n",
    "    def __init__(self, X_csr):\n",
    "        self.X_csr = X_csr\n",
    "        X_csc = X_csr.copy()\n",
    "        X_csc.data = np.arange(X_csr.nnz)\n",
    "        self.X_csc = X_csc.tocsc()\n",
    "        \n",
    "    def get_col(self, col_idx):\n",
    "        col = self.X_csc[:, col_idx].copy()\n",
    "        col.data = self.X_csr.data[col.data]\n",
    "        return col\n",
    "\n",
    "#         dataptr = self.col_view[:,j].data\n",
    "#         self.X.data[dataptr] = vals\n",
    "    def update_col(self, vals, col_idx):\n",
    "        idx = self.X_csc[:, col_idx].data\n",
    "        self.X_csr.data[idx] = vals\n",
    "        return \n",
    "\n",
    "\n",
    "\n",
    "class slimRecommender():\n",
    "    \n",
    "    def __init__(self):\n",
    "        self.empty = None\n",
    "\n",
    "    #creating training matrix\n",
    "    def df_to_csr(self,df):\n",
    "        data = df.rating\n",
    "        columns = df.movie_id-1\n",
    "        rows = df.user_id-1\n",
    "        shape = (max(df.user_id), max(df.movie_id))\n",
    "\n",
    "        user_list = np.unique(df.user_id)\n",
    "        movie_list = np.unique(df.movie_id)\n",
    "        \n",
    "        A= csr_matrix((data, (rows, columns)), shape=shape)\n",
    "        return A, user_list, movie_list\n",
    "    \n",
    "    def compute_similarity_vec(self, msc, col_idx, l1_reg=0.001, l2_reg=0.0001):\n",
    "#         l1_reg=0.001\n",
    "#         l2_reg= 0.0001\n",
    "        fit_intercept=False\n",
    "        num_selected_features=200\n",
    "        alpha = l1_reg+l2_reg\n",
    "        if alpha==0:\n",
    "            l1_ratio = 0\n",
    "            model = SGDRegressor(penalty='elasticnet',fit_intercept=fit_intercept,alpha=alpha,l1_ratio=l1_ratio)\n",
    "        else:\n",
    "            l1_ratio = l1_reg/alpha\n",
    "            model = ElasticNet(alpha=alpha,l1_ratio=l1_ratio,positive=True,fit_intercept=fit_intercept,copy_X=False)\n",
    "\n",
    "        \n",
    "        a = msc.get_col(col_idx)\n",
    "        msc.update_col(np.zeros(a.nnz), col_idx)\n",
    "        model.fit( msc.X_csr, a.toarray().ravel())\n",
    "        msc.update_col(a.data, col_idx)\n",
    "        w = model.coef_\n",
    "        w[w<0] = 0\n",
    "        return w\n",
    "    \n",
    "    def fit(self, df, l1_reg=0.001, l2_reg= 0.0001):\n",
    "        A, self.user_list, self.movie_list = self.df_to_csr(df)\n",
    "        self.msc = MatrixSparseColumn(A)\n",
    "        \n",
    "        row = []\n",
    "        col = []\n",
    "        data = []\n",
    "        shape = (max(self.movie_list), max(self.movie_list))\n",
    "\n",
    "        for movie_id in self.movie_list:\n",
    "            movie_id = movie_id-1\n",
    "            w = self.compute_similarity_vec(self.msc, movie_id, l1_reg, l2_reg)\n",
    "            for row_idx,rating in enumerate(w):\n",
    "                if rating !=0:\n",
    "                    data.append(rating)\n",
    "                    row.append(row_idx)\n",
    "                    col.append(movie_id)\n",
    "                \n",
    "        self.sim_mat = csr_matrix((data, (row, col)), shape =  shape)\n",
    "        return\n",
    "    \n",
    "    def recommend_to_user(self, A, user_id, k_items=10):\n",
    "        user_idx = user_id - 1\n",
    "        r = (A[user_idx]*self.sim_mat).toarray().flatten()\n",
    "        movies_rated_by_user = np.unique(A[user_idx].indices)\n",
    "        rec_list = []\n",
    "        rec_ratings  = []\n",
    "        for movie_idx in r.argsort()[::-1]:\n",
    "            movie_id = movie_idx+1\n",
    "            if movie_id not in movies_rated_by_user :\n",
    "                rec_list.append(movie_id)\n",
    "                rec_ratings.append(r[movie_idx])\n",
    "            if len(rec_list) >= k_items:\n",
    "                break\n",
    "        return rec_list, rec_ratings\n",
    "    \n",
    "    def evaluate(self, df_test, k_items=10, rating=4, perRatingORcumulative=0):\n",
    "        if perRatingORcumulative==0 or perRatingORcumulative=='rHR':\n",
    "            df_test = df_test[df_test.rating==rating]\n",
    "        if perRatingORcumulative==1 or perRatingORcumulative=='cHR':\n",
    "            df_test = df_test[df_test.rating>=rating]\n",
    "            \n",
    "        user_list = np.unique(df_test.user_id)\n",
    "        hr = 0\n",
    "        for user_id in user_list:\n",
    "            movie_test_id = df_test[df_test.user_id==user_id].movie_id.values[0]\n",
    "            rec_list,_ = self.recommend_to_user(self.msc.X_csr, user_id, k_items=k_items)\n",
    "            if movie_test_id in rec_list:\n",
    "                hr += 1\n",
    "        hr = hr/len(user_list)\n",
    "        return hr\n",
    "    \n"
   ]
  },
  {
   "cell_type": "markdown",
   "metadata": {},
   "source": [
    "###  Some calculations"
   ]
  },
  {
   "cell_type": "code",
   "execution_count": 84,
   "metadata": {
    "scrolled": false
   },
   "outputs": [
    {
     "name": "stdout",
     "output_type": "stream",
     "text": [
      "0 0 Train time:226.630\n",
      "0 1 Train time:236.931\n",
      "0 2 Train time:232.516\n",
      "0 3 Train time:229.719\n",
      "1 0 Train time:205.016\n",
      "1 1 Train time:210.577\n",
      "1 2 Train time:205.963\n",
      "1 3 Train time:203.349\n",
      "2 0 Train time:195.650\n",
      "2 1 Train time:195.767\n",
      "2 2 Train time:194.932\n",
      "2 3 Train time:193.968\n",
      "3 0 Train time:190.534\n",
      "3 1 Train time:192.162\n",
      "3 2 Train time:192.639\n",
      "3 3 Train time:191.508\n"
     ]
    }
   ],
   "source": [
    "from time import time\n",
    "\n",
    "heatmap_time = {}\n",
    "base_list = np.array([0.5, 1., 2., 3.])\n",
    "l1_list = base_list \n",
    "l2_list = base_list\n",
    "# time_mtx = np.zeros(len(base_list), len(base_list))\n",
    "# chr_mtx = np.zeros(len(base_list), len(base_list))\n",
    "\n",
    "beta_megalist = []\n",
    "lambda_megalist = []\n",
    "time_list = []\n",
    "chr_list = []\n",
    "\n",
    "for idx_l1, l1 in enumerate(l1_list):\n",
    "    for idx_l2, l2 in enumerate(l2_list):\n",
    "        print(idx_l1, idx_l2, end=' ')\n",
    "        sr = slimRecommender()\n",
    "        train_time = time()\n",
    "        sr.fit(train, l1_reg=l1, l2_reg=l2)\n",
    "        train_time = time() -  train_time\n",
    "        print('Train time:{:.3f}'.format(train_time))\n",
    "        hr = sr.evaluate(test, k_items=10, rating=4, perRatingORcumulative='cHR')\n",
    "        \n",
    "        beta_megalist.append(l2)\n",
    "        lambda_megalist.append(l1)\n",
    "        time_list.append(train_time)\n",
    "        chr_list.append(hr)\n",
    "\n",
    "results_heatmap = pd.DataFrame({'Lambda': lambda_megalist, 'Beta': beta_megalist, 'Train Time': time_list, 'cHR': chr_list})"
   ]
  },
  {
   "cell_type": "code",
   "execution_count": 85,
   "metadata": {},
   "outputs": [
    {
     "data": {
      "image/png": "[encoded data removed]",
      "text/plain": [
       "<Figure size 792x288 with 4 Axes>"
      ]
     },
     "metadata": {
      "needs_background": "light"
     },
     "output_type": "display_data"
    }
   ],
   "source": [
    "import seaborn as sns\n",
    "\n",
    "time_hm = results_heatmap.pivot_table(index='Beta', columns='Lambda', values='Train Time' ).sort_index(ascending=False)\n",
    "chr_hm = results_heatmap.pivot_table(index='Beta', columns='Lambda', values='cHR' ).sort_index(ascending=False)\n",
    "\n",
    "fig,ax = plt.subplots(1,2, figsize=(11,4))\n",
    "fig.suptitle('SLIM performance based on regularization')\n",
    "ax[0].set_title('Training time(s)')\n",
    "ax[1].set_title('cHR')\n",
    "g1 = sns.heatmap(time_hm, linewidth=0.3, ax=ax[0])\n",
    "g2 = sns.heatmap(chr_hm, linewidth=0.5, ax=ax[1])\n",
    "plt.show()"
   ]
  },
  {
   "cell_type": "code",
   "execution_count": 51,
   "metadata": {},
   "outputs": [
    {
     "data": {
      "text/html": [
       "<div>\n",
       "<style scoped>\n",
       "    .dataframe tbody tr th:only-of-type {\n",
       "        vertical-align: middle;\n",
       "    }\n",
       "\n",
       "    .dataframe tbody tr th {\n",
       "        vertical-align: top;\n",
       "    }\n",
       "\n",
       "    .dataframe thead th {\n",
       "        text-align: right;\n",
       "    }\n",
       "</style>\n",
       "<table border=\"1\" class=\"dataframe\">\n",
       "  <thead>\n",
       "    <tr style=\"text-align: right;\">\n",
       "      <th>Lambda</th>\n",
       "      <th>0.5</th>\n",
       "      <th>1.0</th>\n",
       "      <th>2.0</th>\n",
       "      <th>3.0</th>\n",
       "    </tr>\n",
       "    <tr>\n",
       "      <th>Beta</th>\n",
       "      <th></th>\n",
       "      <th></th>\n",
       "      <th></th>\n",
       "      <th></th>\n",
       "    </tr>\n",
       "  </thead>\n",
       "  <tbody>\n",
       "    <tr>\n",
       "      <th>3.0</th>\n",
       "      <td>0.092423</td>\n",
       "      <td>0.081677</td>\n",
       "      <td>0.069049</td>\n",
       "      <td>0.016926</td>\n",
       "    </tr>\n",
       "    <tr>\n",
       "      <th>2.0</th>\n",
       "      <td>0.094304</td>\n",
       "      <td>0.080333</td>\n",
       "      <td>0.068243</td>\n",
       "      <td>0.016926</td>\n",
       "    </tr>\n",
       "    <tr>\n",
       "      <th>1.0</th>\n",
       "      <td>0.093229</td>\n",
       "      <td>0.078990</td>\n",
       "      <td>0.069318</td>\n",
       "      <td>0.016926</td>\n",
       "    </tr>\n",
       "    <tr>\n",
       "      <th>0.5</th>\n",
       "      <td>0.095110</td>\n",
       "      <td>0.078721</td>\n",
       "      <td>0.069586</td>\n",
       "      <td>0.016926</td>\n",
       "    </tr>\n",
       "  </tbody>\n",
       "</table>\n",
       "</div>"
      ],
      "text/plain": [
       "Lambda       0.5       1.0       2.0       3.0\n",
       "Beta                                          \n",
       "3.0     0.092423  0.081677  0.069049  0.016926\n",
       "2.0     0.094304  0.080333  0.068243  0.016926\n",
       "1.0     0.093229  0.078990  0.069318  0.016926\n",
       "0.5     0.095110  0.078721  0.069586  0.016926"
      ]
     },
     "execution_count": 51,
     "metadata": {},
     "output_type": "execute_result"
    }
   ],
   "source": [
    "chr_hm"
   ]
  },
  {
   "cell_type": "code",
   "execution_count": 55,
   "metadata": {},
   "outputs": [
    {
     "name": "stdout",
     "output_type": "stream",
     "text": [
      "Train time:509.610\n",
      "rating: 1 typee: rHR\n",
      "rating: 1 typee: cHR\n",
      "rating: 2 typee: rHR\n",
      "rating: 2 typee: cHR\n",
      "rating: 3 typee: rHR\n",
      "rating: 3 typee: cHR\n",
      "rating: 4 typee: rHR\n",
      "rating: 4 typee: cHR\n",
      "rating: 5 typee: rHR\n",
      "rating: 5 typee: cHR\n"
     ]
    }
   ],
   "source": [
    "sr = slimRecommender()\n",
    "train_time = time()\n",
    "sr.fit(train)\n",
    "train_time = time() -  train_time\n",
    "print('Train time:{:.3f}'.format(train_time))\n",
    "\n",
    "rating_list = [1,2,3,4,5]\n",
    "type_rating_list = ['rHR','cHR']\n",
    "\n",
    "ratings =  []\n",
    "types = []\n",
    "scores = []\n",
    "for rating in rating_list:\n",
    "    for typee in type_rating_list:\n",
    "        print('rating:',rating, 'typee:', typee)\n",
    "        hr = sr.evaluate(test, k_items=10, rating=rating, perRatingORcumulative=typee)\n",
    "        ratings.append(rating)\n",
    "        types.append(typee)\n",
    "        scores.append(hr)\n",
    "        \n",
    "results_Scores = pd.DataFrame({'rating': ratings, 'Type HR': types, 'Value': scores})"
   ]
  },
  {
   "cell_type": "code",
   "execution_count": 62,
   "metadata": {},
   "outputs": [
    {
     "data": {
      "text/html": [
       "<div>\n",
       "<style scoped>\n",
       "    .dataframe tbody tr th:only-of-type {\n",
       "        vertical-align: middle;\n",
       "    }\n",
       "\n",
       "    .dataframe tbody tr th {\n",
       "        vertical-align: top;\n",
       "    }\n",
       "\n",
       "    .dataframe thead th {\n",
       "        text-align: right;\n",
       "    }\n",
       "</style>\n",
       "<table border=\"1\" class=\"dataframe\">\n",
       "  <thead>\n",
       "    <tr style=\"text-align: right;\">\n",
       "      <th>Type HR</th>\n",
       "      <th>cHR</th>\n",
       "      <th>rHR</th>\n",
       "    </tr>\n",
       "    <tr>\n",
       "      <th>rating</th>\n",
       "      <th></th>\n",
       "      <th></th>\n",
       "    </tr>\n",
       "  </thead>\n",
       "  <tbody>\n",
       "    <tr>\n",
       "      <th>1</th>\n",
       "      <td>0.086329</td>\n",
       "      <td>0.003534</td>\n",
       "    </tr>\n",
       "    <tr>\n",
       "      <th>2</th>\n",
       "      <td>0.090460</td>\n",
       "      <td>0.032787</td>\n",
       "    </tr>\n",
       "    <tr>\n",
       "      <th>3</th>\n",
       "      <td>0.096642</td>\n",
       "      <td>0.047093</td>\n",
       "    </tr>\n",
       "    <tr>\n",
       "      <th>4</th>\n",
       "      <td>0.114536</td>\n",
       "      <td>0.080546</td>\n",
       "    </tr>\n",
       "    <tr>\n",
       "      <th>5</th>\n",
       "      <td>0.158537</td>\n",
       "      <td>0.158537</td>\n",
       "    </tr>\n",
       "  </tbody>\n",
       "</table>\n",
       "</div>"
      ],
      "text/plain": [
       "Type HR       cHR       rHR\n",
       "rating                     \n",
       "1        0.086329  0.003534\n",
       "2        0.090460  0.032787\n",
       "3        0.096642  0.047093\n",
       "4        0.114536  0.080546\n",
       "5        0.158537  0.158537"
      ]
     },
     "execution_count": 62,
     "metadata": {},
     "output_type": "execute_result"
    }
   ],
   "source": [
    "results_Scores\n",
    "chr_df = results_Scores.pivot_table(columns='Type HR', index='rating', values='Value')\n",
    "chr_df"
   ]
  },
  {
   "cell_type": "code",
   "execution_count": 72,
   "metadata": {},
   "outputs": [
    {
     "data": {
      "text/plain": [
       "<function matplotlib.pyplot.show(*args, **kw)>"
      ]
     },
     "execution_count": 72,
     "metadata": {},
     "output_type": "execute_result"
    },
    {
     "data": {
      "image/png": "[encoded data removed]",
      "text/plain": [
       "<Figure size 792x288 with 2 Axes>"
      ]
     },
     "metadata": {
      "needs_background": "light"
     },
     "output_type": "display_data"
    }
   ],
   "source": [
    "\n",
    "width=0.35\n",
    "x = np.arange(len(chr_df)) + width/2\n",
    "fig, ax = plt.subplots(1, 2, figsize=(11,4))\n",
    "fig.suptitle('HR types according to ratings')\n",
    "ax[0].set_title('rHR')\n",
    "ax[0].bar(x, chr_df['rHR'], width)\n",
    "ax[0].set_xticks(x)\n",
    "ax[0].set_xticklabels(chr_df.index)\n",
    "ax[1].set_title('cHR')\n",
    "ax[1].bar(x, chr_df['cHR'], width)\n",
    "ax[1].set_xticks(x)\n",
    "ax[1].set_xticklabels(chr_df.index)\n",
    "\n",
    "plt.show"
   ]
  },
  {
   "cell_type": "code",
   "execution_count": 73,
   "metadata": {},
   "outputs": [
    {
     "name": "stdout",
     "output_type": "stream",
     "text": [
      "Train time:437.172\n",
      "k: 5\n",
      "k: 10\n",
      "k: 20\n",
      "k: 50\n",
      "k: 100\n"
     ]
    }
   ],
   "source": [
    "sr = slimRecommender()\n",
    "train_time = time()\n",
    "sr.fit(train)\n",
    "train_time = time() -  train_time\n",
    "print('Train time:{:.3f}'.format(train_time))\n",
    "\n",
    "k_list = [5,10,20,50,100]\n",
    "\n",
    "scores = []\n",
    "for k in k_list:\n",
    "        print('k:',k)\n",
    "        hr = sr.evaluate(test, k_items=k, rating=5)\n",
    "        scores.append(hr)\n",
    "        \n",
    "results_Scores = pd.DataFrame({'Top-k': k_list, 'cHR': scores})"
   ]
  },
  {
   "cell_type": "code",
   "execution_count": 83,
   "metadata": {},
   "outputs": [
    {
     "data": {
      "image/png": "[encoded data removed]",
      "text/plain": [
       "<Figure size 648x288 with 1 Axes>"
      ]
     },
     "metadata": {
      "needs_background": "light"
     },
     "output_type": "display_data"
    }
   ],
   "source": [
    "results_Scores\n",
    "fig,ax = plt.subplots(figsize=(9,4))\n",
    "fig.suptitle('Effect of top-k in perfomance of SLIM')\n",
    "ax.plot(results_Scores['Top-k'], results_Scores['cHR'])\n",
    "ax.set_xlabel('Top-k')\n",
    "ax.set_ylabel('rHR(5)')\n",
    "plt.show()"
   ]
  },
  {
   "cell_type": "code",
   "execution_count": 6,
   "metadata": {
    "scrolled": true
   },
   "outputs": [
    {
     "name": "stdout",
     "output_type": "stream",
     "text": [
      "ratio: 0.1 t: 44.637003660202026\n",
      "ratio: 0.2 t: 72.00822329521179\n",
      "ratio: 0.30000000000000004 t: 113.90211534500122\n",
      "ratio: 0.4 t: 163.27509951591492\n",
      "ratio: 0.5 t: 221.5709879398346\n",
      "ratio: 0.6 t: 230.9002821445465\n",
      "ratio: 0.7000000000000001 t: 254.63445520401\n",
      "ratio: 0.8 t: 313.78670287132263\n",
      "ratio: 0.9 t: 386.5850155353546\n"
     ]
    }
   ],
   "source": [
    "from time import time\n",
    "\n",
    "def split_df(df, train_ratio=0.9):\n",
    "    mask = np.random.rand(len(df)) < train_ratio\n",
    "    train = df[mask]\n",
    "    return train\n",
    "\n",
    "\n",
    "ratio_list =np.linspace(0.1,0.9,9)\n",
    "\n",
    "ts = []\n",
    "ns = []\n",
    "for ratio in ratio_list:\n",
    "    print('ratio:', ratio, end=' ')\n",
    "    train = split_df(df, train_ratio=ratio)\n",
    "    n = len(train)\n",
    "    ns.append(n)\n",
    "    sr = slimRecommender()\n",
    "    t = time()\n",
    "    sr.fit(train)\n",
    "    t = time() - t\n",
    "    ts.append(t)\n",
    "    print('t:', t)\n",
    "\n",
    "result_com = pd.DataFrame({'N': ns, 'Time':ts})"
   ]
  },
  {
   "cell_type": "code",
   "execution_count": 7,
   "metadata": {
    "scrolled": true
   },
   "outputs": [
    {
     "data": {
      "text/plain": [
       "[<matplotlib.lines.Line2D at 0x1c31f98e208>]"
      ]
     },
     "execution_count": 7,
     "metadata": {},
     "output_type": "execute_result"
    },
    {
     "data": {
      "image/png": "[encoded data removed]",
      "text/plain": [
       "<Figure size 648x288 with 1 Axes>"
      ]
     },
     "metadata": {
      "needs_background": "light"
     },
     "output_type": "display_data"
    }
   ],
   "source": [
    "fig, ax = plt.subplots(figsize=(9,4))\n",
    "ax.set_title('Effect of size on training time')\n",
    "ax.set_xlabel('N')\n",
    "ax.set_ylabel('Time(s)')\n",
    "ax.plot(result_com.N,result_com.Time )"
   ]
  }
 ],
 "metadata": {
  "kernelspec": {
   "display_name": "Python 3",
   "language": "python",
   "name": "python3"
  },
  "language_info": {
   "codemirror_mode": {
    "name": "ipython",
    "version": 3
   },
   "file_extension": ".py",
   "mimetype": "text/x-python",
   "name": "python",
   "nbconvert_exporter": "python",
   "pygments_lexer": "ipython3",
   "version": "3.7.4"
  }
 },
 "nbformat": 4,
 "nbformat_minor": 2
}
